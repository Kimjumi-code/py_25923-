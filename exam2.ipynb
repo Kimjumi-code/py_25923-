{
 "cells": [
  {
   "cell_type": "code",
   "execution_count": null,
   "id": "a8fdedc3",
   "metadata": {},
   "outputs": [
    {
     "ename": "SyntaxError",
     "evalue": "invalid syntax (174760263.py, line 9)",
     "output_type": "error",
     "traceback": [
      "  \u001b[36mCell\u001b[39m\u001b[36m \u001b[39m\u001b[32mIn[1]\u001b[39m\u001b[32m, line 9\u001b[39m\n\u001b[31m    \u001b[39m\u001b[31mpip list\u001b[39m\n        ^\n\u001b[31mSyntaxError\u001b[39m\u001b[31m:\u001b[39m invalid syntax\n"
     ]
    }
   ],
   "source": [
    "# pip install 모듈이름\n",
    "# pip uninstall 모듈이름\n",
    "\n",
    "# pip install numpy\n",
    "# pip install numpy == 1.22.0\n",
    "# pip uninstall numpy\n",
    "\n",
    "# 어떤 pip를 설치했는지 보고싶을 때 \n",
    "# pip list\n",
    "\n"
   ]
  },
  {
   "cell_type": "code",
   "execution_count": null,
   "id": "52ae2938",
   "metadata": {},
   "outputs": [
    {
     "name": "stdout",
     "output_type": "stream",
     "text": [
      "c:\\work\\py_25923-\n"
     ]
    }
   ],
   "source": [
    "# 운영체제 모듈 불러오기\n",
    "import os\n",
    "# 현재 디렉토리를 알려주는 함수\n",
    "print(os.getcwd())"
   ]
  },
  {
   "cell_type": "code",
   "execution_count": null,
   "id": "c79a1902",
   "metadata": {},
   "outputs": [
    {
     "name": "stdout",
     "output_type": "stream",
     "text": [
      "C:\\work\n"
     ]
    }
   ],
   "source": [
    "# 경로이동\n",
    "# 디렉토리를 이동할 수 있게 해주는 함수\n",
    "# 한국어 인식이 안되기 때문에 웬만하면 영어로 작업!!\n",
    "os.chdir(\"C://work\")\n",
    "print(os.getcwd())\n"
   ]
  },
  {
   "cell_type": "code",
   "execution_count": 6,
   "id": "8952c933",
   "metadata": {},
   "outputs": [
    {
     "name": "stdout",
     "output_type": "stream",
     "text": [
      "exam\n",
      "py_25923-\n"
     ]
    }
   ],
   "source": [
    "# 입력한 경로의 파일과 폴더 목록을 리스트로 반환하는 함수\n",
    "os.listdir(\"C://work\")\n",
    "\n",
    "# 리스트에 있는 요소 하나씩 출력\n",
    "for i in os.listdir(\"C://work\"):\n",
    "    print(i)"
   ]
  },
  {
   "cell_type": "code",
   "execution_count": 9,
   "id": "ac6b977b",
   "metadata": {},
   "outputs": [
    {
     "name": "stdout",
     "output_type": "stream",
     "text": [
      "False\n",
      "True\n"
     ]
    }
   ],
   "source": [
    "# 특정 폴더의 존재 유무를 판단하는 함수\n",
    "print(os.path.exists(\"C:/work/py_test1\"))\n",
    "print(os.path.exists(\"C:/work/py_test2\"))"
   ]
  },
  {
   "cell_type": "code",
   "execution_count": 18,
   "id": "4948c56b",
   "metadata": {},
   "outputs": [],
   "source": [
    "# 폴더를 만들어주는 함수\n",
    "os.mkdir(\"py_test2\")\n",
    "\n",
    "# 새로운 폴더와 그 하위 폴더까지 만들어주는 함수\n",
    "os.makedirs(\"C:/work/py_test3/py_test3_1\")"
   ]
  },
  {
   "cell_type": "code",
   "execution_count": 19,
   "id": "d58361ac",
   "metadata": {},
   "outputs": [
    {
     "name": "stderr",
     "output_type": "stream",
     "text": [
      "<>:5: SyntaxWarning: invalid escape sequence '\\w'\n",
      "<>:5: SyntaxWarning: invalid escape sequence '\\w'\n",
      "C:\\Users\\admin\\AppData\\Local\\Temp\\ipykernel_2932\\1828594975.py:5: SyntaxWarning: invalid escape sequence '\\w'\n",
      "  os.rmdir(\"C:\\work\\py_test3\\py_test3_1\")\n"
     ]
    }
   ],
   "source": [
    "# 폴더를 삭제해주는 함수\n",
    "# os.rmdir(\"C:\\work\\py_test2\")\n",
    "\n",
    "# 여러개의 폴더를 삭제해주는 함수\n",
    "os.rmdir(\"C:\\work\\py_test3\\py_test3_1\")"
   ]
  }
 ],
 "metadata": {
  "kernelspec": {
   "display_name": "Python 3",
   "language": "python",
   "name": "python3"
  },
  "language_info": {
   "codemirror_mode": {
    "name": "ipython",
    "version": 3
   },
   "file_extension": ".py",
   "mimetype": "text/x-python",
   "name": "python",
   "nbconvert_exporter": "python",
   "pygments_lexer": "ipython3",
   "version": "3.13.7"
  }
 },
 "nbformat": 4,
 "nbformat_minor": 5
}
